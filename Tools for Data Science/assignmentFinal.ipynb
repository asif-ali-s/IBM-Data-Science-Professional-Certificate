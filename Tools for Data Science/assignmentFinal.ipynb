{
 "cells": [
  {
   "cell_type": "markdown",
   "id": "882f267e",
   "metadata": {},
   "source": [
    "# My Jupyter Notebook on IBM Watson Studio"
   ]
  },
  {
   "cell_type": "markdown",
   "id": "81200969",
   "metadata": {},
   "source": [
    "# Asif Ali Sherani"
   ]
  },
  {
   "cell_type": "markdown",
   "id": "38e1667d",
   "metadata": {},
   "source": [
    "Student"
   ]
  },
  {
   "cell_type": "markdown",
   "id": "ac890a84",
   "metadata": {},
   "source": [
    "*I enjoy being a part of new technologies and trying out innovative solutions, which I noticed your company also values. I'm especially interested in artificial intelligence after learning about machine learning in my studies, and I'm eager to use AI in a more practical capacity.*"
   ]
  },
  {
   "cell_type": "markdown",
   "id": "2afc5ad6",
   "metadata": {},
   "source": [
    "### The below should add x and y"
   ]
  },
  {
   "cell_type": "code",
   "execution_count": 1,
   "id": "5f32456b",
   "metadata": {},
   "outputs": [
    {
     "name": "stdout",
     "output_type": "stream",
     "text": [
      "2\n"
     ]
    }
   ],
   "source": [
    "x = 1\n",
    "y = 1\n",
    "print(x+y)"
   ]
  },
  {
   "cell_type": "markdown",
   "id": "baef7a54",
   "metadata": {},
   "source": [
    "Fruits:\n",
    "- Apple\n",
    "- Banana\n",
    "- Papaya\n",
    "***\n",
    "Ranking in class:\n",
    "1. John\n",
    "2. Merry\n",
    "3. bob"
   ]
  },
  {
   "cell_type": "code",
   "execution_count": null,
   "id": "b124d82b",
   "metadata": {},
   "outputs": [],
   "source": []
  }
 ],
 "metadata": {
  "kernelspec": {
   "display_name": "Python 3 (ipykernel)",
   "language": "python",
   "name": "python3"
  },
  "language_info": {
   "codemirror_mode": {
    "name": "ipython",
    "version": 3
   },
   "file_extension": ".py",
   "mimetype": "text/x-python",
   "name": "python",
   "nbconvert_exporter": "python",
   "pygments_lexer": "ipython3",
   "version": "3.9.12"
  }
 },
 "nbformat": 4,
 "nbformat_minor": 5
}
